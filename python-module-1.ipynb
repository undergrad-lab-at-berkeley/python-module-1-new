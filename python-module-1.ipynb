{
 "cells": [
  {
   "cell_type": "markdown",
   "metadata": {},
   "source": [
    "# Python Module 1: Introduction to Python\n",
    "\n",
    "This module will introduce the Jupyter Notebook, cover the basic tools of Python, and provide a few exercises to practice the fundamental skills. <br>"
   ]
  },
  {
   "cell_type": "code",
   "execution_count": null,
   "metadata": {
    "ExecuteTime": {
     "end_time": "2020-08-14T03:13:58.362190Z",
     "start_time": "2020-08-14T03:13:58.354179Z"
    },
    "tags": []
   },
   "outputs": [],
   "source": [
    "# Click on this cell to select it, input your Cal ID below, and click the 'Run' button above.\n",
    "# Make sure to run the cell below too! (This might take a while)\n",
    "\n",
    "%env CAL_ID = 1234567890"
   ]
  },
  {
   "cell_type": "code",
   "execution_count": null,
   "metadata": {
    "ExecuteTime": {
     "end_time": "2020-08-14T03:14:04.805989Z",
     "start_time": "2020-08-14T03:13:59.628087Z"
    }
   },
   "outputs": [],
   "source": [
    "%%capture\n",
    "# %load_ext autoreload\n",
    "# %autoreload 2\n",
    "!pip install sourcedefender\n",
    "import sourcedefender\n",
    "from pythonModule1 import *\n",
    "\n",
    "import math\n",
    "import time"
   ]
  },
  {
   "cell_type": "markdown",
   "metadata": {},
   "source": [
    "# What is Jupyter?\n",
    "*From the Jupyter documentation:* \"First and foremost, the Jupyter Notebook is **an interactive environment for writing and running code**. The notebook is capable of running code in a wide range of languages. However, each notebook is associated with a single kernel. This notebook is associated with the IPython kernel, therefore runs Python code.\"\n",
    "\n",
    "### Jupyter vs. the Command Line\n",
    "Python is also commonly run on the command line (to test this out: open the terminal on your operating system and type `python3` to launch the  Python interactive mode). We prefer to use Jupyter Notebook (at least for now!) because of its friendlier interface and the ability to have plain text, LaTeX, images, and even videos on the same screen as your code. \n",
    "\n",
    "Additionally, unlike a Python script, which is a continuous \"block\" of code, Jupyter Notebooks are split up into **cells** of code that can be run independently.\n",
    "\n",
    "### What are Cells?\n",
    "Cells are the modular pieces that make up a Jupyter Notebook. Cells primarily come in two types (although there are more): **Code** and **Markdown**. The cell that you are currently looking at is a Markdown cell: it displays plain text. A code cell, as the name suggests, contains code that can be executed. You've seen two of them at the top of the page; they executed commands to set up this Python Module.\n",
    "\n",
    "There are two ways to interact with cells:\n",
    "\n",
    "**Command Mode:** Press `Esc`, notice the cell outline will turn blue.  <br>\n",
    "**Edit Mode:** Press `Enter`, or double-click on a cell. Notice it will now have a green outline. As the name suggests, this is the mode to be in if you want to edit the contents of individual cells.<br>\n",
    "<br>**Common Shortcuts**<br>\n",
    "* `Ctrl-Enter`: Run current cell\n",
    "* `Shift-Enter`: Run current cell, and select cell below\n",
    "* `H`: Show all keyboard shortcuts\n",
    "\n",
    "There are a lot of great guides in the Help tab above!<br>\n",
    "\n",
    "### What is the kernel?\n",
    "Another term that pops up often is the kernel. The IPython kernel is the \"computational engine\" that executes the code contained in a Notebook document. You can think of it as the active process that is processing all of the Notebook's activity. (Note the IPython kernel is very different from the kernel in systems programming)."
   ]
  },
  {
   "cell_type": "markdown",
   "metadata": {},
   "source": [
    "### Checkpoint 0\n",
    "\n",
    "The next cell will be stuck in an infinite loop once it is run. Much of the time, infinite loops are problematic, since they will just continuously run without any direct way to stop them. An external influence is needed to \"pull the plug\". In Jupyter's case, you can interrupt the kernel by pressing the `Stop` (black square) button above.<br><br>\n",
    "**Task:** Run the next cell and then interrupt the kernel."
   ]
  },
  {
   "cell_type": "code",
   "execution_count": null,
   "metadata": {
    "ExecuteTime": {
     "end_time": "2020-08-14T03:14:40.597475Z",
     "start_time": "2020-08-14T03:14:38.133689Z"
    },
    "tags": []
   },
   "outputs": [],
   "source": [
    "while True:\n",
    "    print('running')\n",
    "    time.sleep(1)"
   ]
  },
  {
   "cell_type": "markdown",
   "metadata": {
    "ExecuteTime": {
     "end_time": "2020-07-11T00:35:31.072629Z",
     "start_time": "2020-07-11T00:35:31.067234Z"
    }
   },
   "source": [
    "If you ever encounter any bizarre errors, restarting the kernel is the equivalent of 'turning Jupyter off and on again'. \n",
    "__*Note that restarting the kernel will lose variable values and data! This means that if you close the Jupyter notebook and return sometime later, when you return, you'll need to re-run the cells you've already completed. There are a number of useful options in the Cell tab to help you with this.*__\n",
    "<br><br>"
   ]
  },
  {
   "cell_type": "code",
   "execution_count": null,
   "metadata": {
    "ExecuteTime": {
     "end_time": "2020-08-14T03:50:57.484990Z",
     "start_time": "2020-08-14T03:50:57.465814Z"
    },
    "tags": []
   },
   "outputs": [],
   "source": [
    "# This is an autograder cell; run the cell to receive credit \n",
    "checkpoint0()"
   ]
  },
  {
   "cell_type": "markdown",
   "metadata": {},
   "source": [
    "# Python Introduction\n",
    "\n",
    "One of the most basic functions of a programming language such as Python is computing mathematical expressions. Listed below in the table are common operations defined natively in Python:\n",
    "\n",
    "<table>\n",
    "    <tr>\n",
    "        <th>\n",
    "            Expression Type\n",
    "        </th>\n",
    "        <th>\n",
    "            Operator\n",
    "        </th>\n",
    "        <th>\n",
    "            Example\n",
    "        </th>\n",
    "    </tr>\n",
    "    <tr>\n",
    "        <td>\n",
    "            Addition\n",
    "        </td>\n",
    "        <td>\n",
    "            <code>+</code>\n",
    "        </td>\n",
    "        <td>\n",
    "            <code>5 + 6</code> <br>\n",
    "            <code>>>> 11</code>\n",
    "        </td>\n",
    "    </tr>\n",
    "    <tr>\n",
    "        <td>\n",
    "            Subtraction\n",
    "        </td>\n",
    "        <td>\n",
    "            <code>-</code>\n",
    "        </td>\n",
    "        <td>\n",
    "            <code>5 - 6</code> <br>\n",
    "            <code>>>> -1</code>\n",
    "        </td>\n",
    "    </tr>\n",
    "    <tr>\n",
    "        <td>\n",
    "            Multiplication\n",
    "        </td>\n",
    "        <td>\n",
    "            <code>*</code>\n",
    "        </td>\n",
    "        <td>\n",
    "            <code>5 * 6</code> <br>\n",
    "            <code>>>> 30</code>\n",
    "        </td>\n",
    "    </tr>\n",
    "    <tr>\n",
    "        <td>\n",
    "            Division\n",
    "        </td>\n",
    "        <td>\n",
    "            <code>/</code>\n",
    "        </td>\n",
    "        <td>\n",
    "            <code>5 / 6</code> <br>\n",
    "            <code>>>> 0.8333333333333334</code> <br>\n",
    "        </td>\n",
    "    </tr>\n",
    "    <tr>\n",
    "        <td>\n",
    "            Remainder (Modulus)\n",
    "        </td>\n",
    "        <td>\n",
    "            <code>%</code>\n",
    "        </td>\n",
    "        <td>\n",
    "            <code>5 % 6</code> <br>\n",
    "            <code>>>> 5</code>\n",
    "        </td>\n",
    "    </tr>\n",
    "    <tr>\n",
    "        <td>\n",
    "            Exponentiation\n",
    "        </td>\n",
    "        <td>\n",
    "            <code>**</code>\n",
    "        </td>\n",
    "        <td>\n",
    "            <code>4 ** 2</code> <br>\n",
    "            <code>>>> 16</code>\n",
    "        </td>\n",
    "    </tr>\n",
    "</table>"
   ]
  },
  {
   "cell_type": "markdown",
   "metadata": {},
   "source": [
    "### Checkpoint 1\n",
    "\n",
    "**Task:** Calculate `(9 plus 9) times ((99 divided by 9) plus 999) divided by 9`, and set `x` as your answer. Then, print `x`.<br><br>\n",
    "Execute any statements you need to below and make sure that you print your answer to the screen. You can do that by calling the print method like so: `print(whatever you want to print)`.\n",
    "\n",
    "In a Jupyter notebook, any output that is not assigned to a variable in the last line is returned as the result of the cell. However, it's good practice to `print` whatever you'd like to show."
   ]
  },
  {
   "cell_type": "code",
   "execution_count": null,
   "metadata": {
    "ExecuteTime": {
     "end_time": "2020-08-14T03:51:18.281863Z",
     "start_time": "2020-08-14T03:51:18.271802Z"
    }
   },
   "outputs": [],
   "source": [
    "# By the way, these lines with the pound sign before them are comments\n",
    "# That means we can write them in a Python cell, but they won't be executed as code.\n",
    "# Before running this block, fill in your guess in the \"...\"\n",
    "\n",
    "x = ...\n",
    "print(x)"
   ]
  },
  {
   "cell_type": "code",
   "execution_count": null,
   "metadata": {
    "ExecuteTime": {
     "end_time": "2020-08-14T03:51:18.794579Z",
     "start_time": "2020-08-14T03:51:18.787928Z"
    }
   },
   "outputs": [],
   "source": [
    "# Run this cell to check your result!\n",
    "checkpoint1(x)"
   ]
  },
  {
   "cell_type": "markdown",
   "metadata": {
    "ExecuteTime": {
     "end_time": "2020-06-14T00:27:13.433777Z",
     "start_time": "2020-06-14T00:27:13.426965Z"
    }
   },
   "source": [
    "### Checkpoint 2\n",
    "\n",
    "**Task:** Find `1 mod 2`, `2 mod 2`, and `3 mod 2`; and set them equal to the variables `m1`, `m2`, and `m3` respectively.\n",
    "Do you notice a pattern?"
   ]
  },
  {
   "cell_type": "code",
   "execution_count": null,
   "metadata": {
    "ExecuteTime": {
     "end_time": "2020-08-14T03:51:51.030779Z",
     "start_time": "2020-08-14T03:51:51.010496Z"
    },
    "scrolled": true
   },
   "outputs": [],
   "source": [
    "m1 = ...\n",
    "m2 = ...\n",
    "m3 = ...\n",
    "\n",
    "print('1 mod 2: ' + str(m1))\n",
    "print('2 mod 2: ' + str(m2))\n",
    "print('3 mod 2: ' + str(m3))"
   ]
  },
  {
   "cell_type": "markdown",
   "metadata": {},
   "source": [
    "**Task:** Now set `m4` to the value of `13 mod 5` and print the result."
   ]
  },
  {
   "cell_type": "code",
   "execution_count": null,
   "metadata": {
    "ExecuteTime": {
     "end_time": "2020-08-14T03:52:08.071956Z",
     "start_time": "2020-08-14T03:52:08.064795Z"
    }
   },
   "outputs": [],
   "source": [
    "m4 = ...\n",
    "print(m4)"
   ]
  },
  {
   "cell_type": "code",
   "execution_count": null,
   "metadata": {
    "ExecuteTime": {
     "end_time": "2020-08-14T03:52:09.009431Z",
     "start_time": "2020-08-14T03:52:09.002254Z"
    }
   },
   "outputs": [],
   "source": [
    "# Check your result!\n",
    "checkpoint2(m1,m2,m3,m4)"
   ]
  },
  {
   "cell_type": "markdown",
   "metadata": {},
   "source": [
    "# Variables\n",
    "Chances are you've probably run into variables in a math class, representing a quantity that changes, e.g. $x$ is the variable in the polynomial $f(x) = x^2$. In programming languages, a <i>variable</i> is a reserved spot in computer memory that stores a particular value or a reference to an object. All languages have variables but variable in Python are <i>dynamically-typed</i> (unlike other statically-typed languages like Java). This means that you can define a variable <code>x</code> to be certain type (e.g. integer) and then later in your code assign <code>x</code> to a different type (e.g string)."
   ]
  },
  {
   "cell_type": "markdown",
   "metadata": {},
   "source": [
    "### Variable Practice\n",
    "\n",
    "**Task:** Set the variable `a` to the value 5. Then, print `a`."
   ]
  },
  {
   "cell_type": "code",
   "execution_count": null,
   "metadata": {
    "ExecuteTime": {
     "end_time": "2020-08-14T03:14:56.136714Z",
     "start_time": "2020-08-14T03:14:56.102856Z"
    }
   },
   "outputs": [],
   "source": [
    "...\n",
    "print(...)"
   ]
  },
  {
   "cell_type": "markdown",
   "metadata": {},
   "source": [
    "**Task:** Change `a` to have value 50, and set `b` to 10."
   ]
  },
  {
   "cell_type": "code",
   "execution_count": null,
   "metadata": {
    "ExecuteTime": {
     "end_time": "2020-08-14T03:14:57.179924Z",
     "start_time": "2020-08-14T03:14:57.174528Z"
    }
   },
   "outputs": [],
   "source": [
    "..."
   ]
  },
  {
   "cell_type": "markdown",
   "metadata": {},
   "source": [
    "**Task:** Set `c` to `b/a`, and then print `c`."
   ]
  },
  {
   "cell_type": "code",
   "execution_count": null,
   "metadata": {
    "ExecuteTime": {
     "end_time": "2020-08-14T03:14:58.396203Z",
     "start_time": "2020-08-14T03:14:58.389696Z"
    }
   },
   "outputs": [],
   "source": [
    "..."
   ]
  },
  {
   "cell_type": "markdown",
   "metadata": {},
   "source": [
    "Printing `c` should give out a value of `0.2`."
   ]
  },
  {
   "cell_type": "markdown",
   "metadata": {},
   "source": [
    "### Checkpoint 3\n",
    "**Task:** Look at the code block below and---without running the cell---place your guess for the value of `m` in the variable `my_guess`."
   ]
  },
  {
   "cell_type": "code",
   "execution_count": null,
   "metadata": {
    "ExecuteTime": {
     "end_time": "2020-08-14T03:15:00.777224Z",
     "start_time": "2020-08-14T03:15:00.769161Z"
    }
   },
   "outputs": [],
   "source": [
    "# Before running this block, fill in your guess in the ...\n",
    "my_guess = ...\n",
    "\n",
    "m = 5 * 2 + 1\n",
    "m = m + 1\n",
    "k = 2 * m\n",
    "m = m + k\n",
    "\n",
    "print('my guess: ' + str(my_guess)) # do not edit"
   ]
  },
  {
   "cell_type": "code",
   "execution_count": null,
   "metadata": {
    "ExecuteTime": {
     "end_time": "2020-08-14T03:15:01.831501Z",
     "start_time": "2020-08-14T03:15:01.826010Z"
    }
   },
   "outputs": [],
   "source": [
    "# check your result\n",
    "checkpoint3(m, my_guess)"
   ]
  },
  {
   "cell_type": "markdown",
   "metadata": {},
   "source": [
    "# Data Types\n",
    "\n",
    "The \"type\" of a variable is the type of data that the variable can \"contain.\" You can find the type of any variable or piece of data with the `type` function. Let's explore some common data types!"
   ]
  },
  {
   "cell_type": "markdown",
   "metadata": {},
   "source": [
    "### Booleans\n",
    "\n",
    "`bool` values are the simplest datatype: they contain either `True` or `False`. In future modules, you'll see Booleans being used for control and loop structures (`if`, `while`, `for`)."
   ]
  },
  {
   "cell_type": "code",
   "execution_count": null,
   "metadata": {
    "tags": []
   },
   "outputs": [],
   "source": [
    "print(type(True))"
   ]
  },
  {
   "cell_type": "markdown",
   "metadata": {},
   "source": [
    "### Integers and Floats\n",
    "`int`s contain exactly what you expect: the integers $-\\infty, \\dots, -1, 0, 1, \\dots, \\infty$. Unlike some other languages, [integers in Python 3](https://docs.python.org/3.1/whatsnew/3.0.html#integers) are unbounded, that is, there is no theoretical maximum integer that Python can store. `float`s, short for \"floating point,\" represents a real number with a decimal value. We have been interacting with integers and floats since the start of the module, so we're already familiar with the basic operations between integers and floats!\n",
    "\n",
    "***Task:*** Print the type of the values `1` and `1.0`. Are they what you expect?"
   ]
  },
  {
   "cell_type": "code",
   "execution_count": null,
   "metadata": {
    "ExecuteTime": {
     "end_time": "2020-08-14T03:15:04.892701Z",
     "start_time": "2020-08-14T03:15:04.886009Z"
    }
   },
   "outputs": [],
   "source": [
    "print(...)"
   ]
  },
  {
   "cell_type": "markdown",
   "metadata": {},
   "source": [
    "Note: adding floats can result in some approximation errors."
   ]
  },
  {
   "cell_type": "code",
   "execution_count": null,
   "metadata": {
    "ExecuteTime": {
     "end_time": "2020-08-14T03:15:05.947298Z",
     "start_time": "2020-08-14T03:15:05.942160Z"
    }
   },
   "outputs": [],
   "source": [
    "print(0.1 + 0.2)"
   ]
  },
  {
   "cell_type": "markdown",
   "metadata": {},
   "source": [
    "### Strings\n",
    "Simply put, strings are lists of characters. `'hello'`, `'the blue lake'`, and `'15 pounds'` are all strings. Just like we can add integers and floats, we can concatenate strings using the addition operator. For example, let's try writing out `ULAB Physics and Astronomy` by adding each word together:"
   ]
  },
  {
   "cell_type": "code",
   "execution_count": null,
   "metadata": {
    "ExecuteTime": {
     "end_time": "2020-08-14T03:15:09.267572Z",
     "start_time": "2020-08-14T03:15:09.260393Z"
    }
   },
   "outputs": [],
   "source": [
    "concat = \"ULAB\" + \"Physics\" + \"and\" + \"Astronomy\"\n",
    "print(concat)"
   ]
  },
  {
   "cell_type": "markdown",
   "metadata": {},
   "source": [
    "**Task:** Fix the output by *concatenating* spaces `\" \"` in between the words."
   ]
  },
  {
   "cell_type": "code",
   "execution_count": null,
   "metadata": {
    "ExecuteTime": {
     "end_time": "2020-08-14T03:15:10.780522Z",
     "start_time": "2020-08-14T03:15:10.774618Z"
    }
   },
   "outputs": [],
   "source": [
    "concat = ...\n",
    "print(concat)"
   ]
  },
  {
   "cell_type": "markdown",
   "metadata": {},
   "source": [
    "## Lists\n",
    "\n",
    "In Python, any kind of data can be put into a `list` if we want to refer to several variables in some order all at once. Examples of arrays include `[7,15,3,30]` or `['Canada','Belgium','Brazil','Singapore']`. <br>\n",
    "<br>\n",
    "Lists are **zero-indexed**, meaning that the *first* item is considered to be at position `0`. Subsequently, the second item is at position `1`, and so on.\n",
    "\n",
    "In the code cell below, `a` is set with the list `[1,2,3]`. <br>`b` is then assigned the value of `a`. <br>Finally, `b[0]` (which means \"the `0`th item in array `b`\") is set to `5`. "
   ]
  },
  {
   "cell_type": "code",
   "execution_count": null,
   "metadata": {
    "ExecuteTime": {
     "end_time": "2020-08-14T03:15:11.810505Z",
     "start_time": "2020-08-14T03:15:11.793570Z"
    }
   },
   "outputs": [],
   "source": [
    "a = [1,2,3]\n",
    "b = a\n",
    "\n",
    "b[0] = 5"
   ]
  },
  {
   "cell_type": "markdown",
   "metadata": {},
   "source": [
    "What is `a`? Think through the above lines, and predict what will happen when we output the value of `a`."
   ]
  },
  {
   "cell_type": "code",
   "execution_count": null,
   "metadata": {
    "ExecuteTime": {
     "end_time": "2020-08-14T03:15:12.577279Z",
     "start_time": "2020-08-14T03:15:12.569224Z"
    }
   },
   "outputs": [],
   "source": [
    "print(a)"
   ]
  },
  {
   "cell_type": "markdown",
   "metadata": {},
   "source": [
    "That's weird: the value of `a` changed, even when the code only altered `b`. This occurs because the line `b=a` causes the variable `b` to point to the same location in memory as the list `a`. In other words, both `a` and `b` are \"pointing\" to the **same object**: `[1,2,3]`. Thus, when `b[0]` is set to `5`, the array changes to `[5,2,3]`, and that's what both `a` and `b` now display as their value.\n",
    "\n",
    "<img src=\"files/list.png\" style='height:150px'>\n",
    "\n",
    "If you'd like to experiment more with Python and generate these kinds of diagrams, try the [Online Python Tutor!](http://www.pythontutor.com/visualize.html#mode=edit)"
   ]
  },
  {
   "cell_type": "markdown",
   "metadata": {},
   "source": [
    "### Index Practice\n",
    "\n",
    "**Task:** Print out the second and fourth items in `points` by referring to their index."
   ]
  },
  {
   "cell_type": "code",
   "execution_count": null,
   "metadata": {
    "ExecuteTime": {
     "end_time": "2020-08-14T03:15:19.532415Z",
     "start_time": "2020-08-14T03:15:19.524141Z"
    }
   },
   "outputs": [],
   "source": [
    "points = [46,50,47,39,41]\n",
    "print(...)\n",
    "print(...)"
   ]
  },
  {
   "cell_type": "markdown",
   "metadata": {},
   "source": [
    "### Nesting Lists\n",
    "\n",
    "It is possible to \"nest\" a list within another list. So, you could have something like `[ [55, 23], 8, 33 ]`.\n",
    "<br><br>\n",
    "With this, it's possible to make multidimensional list, instead of just the \"1-D lists\" that we have been discussing above. For example, `newList` is a 3 × 3 array, created by putting 3 lists (themselves with a length of 3) in each slot."
   ]
  },
  {
   "cell_type": "code",
   "execution_count": null,
   "metadata": {
    "ExecuteTime": {
     "end_time": "2020-08-14T03:15:24.118958Z",
     "start_time": "2020-08-14T03:15:24.112404Z"
    }
   },
   "outputs": [],
   "source": [
    "newList = [ [12,6,7], [5,8,8], [15,11,3] ]"
   ]
  },
  {
   "cell_type": "markdown",
   "metadata": {
    "ExecuteTime": {
     "end_time": "2020-07-10T05:33:55.544880Z",
     "start_time": "2020-07-10T05:33:55.534776Z"
    }
   },
   "source": [
    "### Adding Lists\n",
    "\n",
    "**Task:** What is `[1, 2] + [3]`?"
   ]
  },
  {
   "cell_type": "code",
   "execution_count": null,
   "metadata": {
    "ExecuteTime": {
     "end_time": "2020-08-14T03:15:25.349536Z",
     "start_time": "2020-08-14T03:15:25.341952Z"
    }
   },
   "outputs": [],
   "source": [
    "sum_list1 = ...\n",
    "print(sum_list1)"
   ]
  },
  {
   "cell_type": "markdown",
   "metadata": {},
   "source": [
    "**Task:** What is `[[1, 2]] + [3]`?"
   ]
  },
  {
   "cell_type": "code",
   "execution_count": null,
   "metadata": {
    "ExecuteTime": {
     "end_time": "2020-08-14T03:15:26.570033Z",
     "start_time": "2020-08-14T03:15:26.561198Z"
    }
   },
   "outputs": [],
   "source": [
    "sum_list2 = ...\n",
    "print(sum_list2)"
   ]
  },
  {
   "cell_type": "markdown",
   "metadata": {},
   "source": [
    "# A Taylor Approximation!"
   ]
  },
  {
   "cell_type": "markdown",
   "metadata": {},
   "source": [
    "### Checkpoint 4\n",
    "Recall that we can approximate a function with the Taylor expansion (if you're not familiar with this concept, don't worry! We'll only need the following result for our task below):\n",
    "\n",
    "\\\\[f(a) = \\sum_{n=0}^{\\infty} \\frac{f^{(n)}(a)}{n!}(x-a)^n\\\\]\n",
    "\n",
    "Let's examine the Taylor expansion of sine centered around $x=0$ written out to the fifth order.\n",
    "\n",
    "\\\\[\\sin(x) \\approx x - \\frac{x^3}{3!} + \\frac{x^5}{5!}\\\\]\n",
    "\n",
    "What is the value of $\\sin(0.5)$ based on our approximation?"
   ]
  },
  {
   "cell_type": "markdown",
   "metadata": {},
   "source": [
    "***Task***: first calculate $3!$ and $5!$."
   ]
  },
  {
   "cell_type": "code",
   "execution_count": null,
   "metadata": {
    "ExecuteTime": {
     "end_time": "2020-08-14T03:15:28.757099Z",
     "start_time": "2020-08-14T03:15:28.752747Z"
    }
   },
   "outputs": [],
   "source": [
    "three_fact = ...\n",
    "five_fact = ..."
   ]
  },
  {
   "cell_type": "markdown",
   "metadata": {},
   "source": [
    "***Task***: Now, let's calculate our approximation for $\\sin(0.5)$. Let's assign it to the variable `val`. (For the $x^3$ and x^5$ terms, it might help to look back at the table of mathematical operations!)"
   ]
  },
  {
   "cell_type": "code",
   "execution_count": null,
   "metadata": {
    "ExecuteTime": {
     "end_time": "2020-08-14T03:15:32.010844Z",
     "start_time": "2020-08-14T03:15:31.994091Z"
    }
   },
   "outputs": [],
   "source": [
    "val = ...\n",
    "print(val)"
   ]
  },
  {
   "cell_type": "markdown",
   "metadata": {},
   "source": [
    "On its own, Python has a good range of math tools that we can play around with, but it falls short in some areas. We can **import** Python's `math` library into this Notebook to bring in many useful functions (we already did this at the start of this notebook). For things like calculating powers, logarithms, and handling trig functions, importing `math` is a great help. To use the package, we add the prefix `math.` before the operation. For instance, `math.exp(n)` gives us $e^n$.\n",
    "\n",
    "\n",
    "\n",
    "**Task:** What is the actual value of $\\sin(0.5)$?"
   ]
  },
  {
   "cell_type": "code",
   "execution_count": null,
   "metadata": {
    "ExecuteTime": {
     "end_time": "2020-08-14T03:15:32.591378Z",
     "start_time": "2020-08-14T03:15:32.583061Z"
    }
   },
   "outputs": [],
   "source": [
    "actual = ...\n",
    "print(actual)"
   ]
  },
  {
   "cell_type": "markdown",
   "metadata": {},
   "source": [
    "**Task:** Calculate the percent error. (The inbuilt Python function `abs`, which takes the absolute value of integers and floats, may help here!)"
   ]
  },
  {
   "cell_type": "code",
   "execution_count": null,
   "metadata": {
    "ExecuteTime": {
     "end_time": "2020-08-14T03:15:33.391897Z",
     "start_time": "2020-08-14T03:15:33.379225Z"
    }
   },
   "outputs": [],
   "source": [
    "err = ...\n",
    "print(err)"
   ]
  },
  {
   "cell_type": "code",
   "execution_count": null,
   "metadata": {
    "ExecuteTime": {
     "end_time": "2020-08-14T03:15:33.826884Z",
     "start_time": "2020-08-14T03:15:33.820124Z"
    }
   },
   "outputs": [],
   "source": [
    "# check your result\n",
    "checkpoint4(val,actual,err)"
   ]
  },
  {
   "cell_type": "markdown",
   "metadata": {},
   "source": [
    "# Summary\n",
    "In this module, we discussed: \n",
    "- Basics of the Jupyter Notebook\n",
    "- Introduction to Python and variables\n",
    "- Common data types and their basic properties\n",
    "\n",
    "***Submission:*** After running the code block below, you should see a `Token` that's been printed below your score. Copy that long string of characters, and submit it to ULAB staff via ..."
   ]
  },
  {
   "cell_type": "code",
   "execution_count": null,
   "metadata": {
    "ExecuteTime": {
     "end_time": "2020-08-14T03:15:35.527365Z",
     "start_time": "2020-08-14T03:15:35.516707Z"
    }
   },
   "outputs": [],
   "source": [
    "# Submission\n",
    "checkpoint0()\n",
    "checkpoint1(x)\n",
    "checkpoint2(m1,m2,m3,m4)\n",
    "checkpoint3(m,my_guess)\n",
    "checkpoint4(val,actual,err)\n",
    "print()\n",
    "generate_token()"
   ]
  },
  {
   "cell_type": "markdown",
   "metadata": {},
   "source": [
    "<b>References:</b> Based off of work inspired by <i>Computational and Inferential Thinking</i> and the Data 8 course material: Professors Ani Adhikari, John DeNero, and the Data 8 staff. Edited and complied by the ULAB staff. \n",
    "\n",
    "Last Updated: September 2020"
   ]
  }
 ],
 "metadata": {
  "kernelspec": {
   "display_name": "Python 3",
   "language": "python",
   "name": "python3"
  },
  "language_info": {
   "codemirror_mode": {
    "name": "ipython",
    "version": 3
   },
   "file_extension": ".py",
   "mimetype": "text/x-python",
   "name": "python",
   "nbconvert_exporter": "python",
   "pygments_lexer": "ipython3",
   "version": "3.7.9-final"
  }
 },
 "nbformat": 4,
 "nbformat_minor": 2
}